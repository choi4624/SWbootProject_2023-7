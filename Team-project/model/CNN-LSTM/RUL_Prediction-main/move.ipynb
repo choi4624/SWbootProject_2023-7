{
 "cells": [
  {
   "cell_type": "code",
   "execution_count": 19,
   "metadata": {},
   "outputs": [
    {
     "name": "stdout",
     "output_type": "stream",
     "text": [
      "['Bearing1_5', 'Bearing2_6', 'temp1_4', 'Bearing1_3', 'Bearing3_3', 'temp', 'Bearing1_7', 'Bearing1_4', 'Bearing2_7', 'Bearing2_4', 'Bearing1_6', 'Bearing2_5', 'Bearing2_3', 'temp_Bearing1_5']\n",
      "Bearing1_5\n",
      "/home/i4624/vscode/gitclone/SWbootProject_2023-7/Team-project/data/ieee-phm-2012-data-challenge-dataset-master/Test_set/temp_Bearing1_5\n",
      "Bearing2_6\n",
      "/home/i4624/vscode/gitclone/SWbootProject_2023-7/Team-project/data/ieee-phm-2012-data-challenge-dataset-master/Test_set/temp_Bearing2_6\n",
      "temp1_4\n",
      "/home/i4624/vscode/gitclone/SWbootProject_2023-7/Team-project/data/ieee-phm-2012-data-challenge-dataset-master/Test_set/temp_temp1_4\n",
      "Bearing1_3\n",
      "/home/i4624/vscode/gitclone/SWbootProject_2023-7/Team-project/data/ieee-phm-2012-data-challenge-dataset-master/Test_set/temp_Bearing1_3\n",
      "Bearing3_3\n",
      "/home/i4624/vscode/gitclone/SWbootProject_2023-7/Team-project/data/ieee-phm-2012-data-challenge-dataset-master/Test_set/temp_Bearing3_3\n",
      "temp\n",
      "/home/i4624/vscode/gitclone/SWbootProject_2023-7/Team-project/data/ieee-phm-2012-data-challenge-dataset-master/Test_set/temp_temp\n",
      "Bearing1_7\n",
      "/home/i4624/vscode/gitclone/SWbootProject_2023-7/Team-project/data/ieee-phm-2012-data-challenge-dataset-master/Test_set/temp_Bearing1_7\n",
      "Bearing1_4\n",
      "/home/i4624/vscode/gitclone/SWbootProject_2023-7/Team-project/data/ieee-phm-2012-data-challenge-dataset-master/Test_set/temp_Bearing1_4\n",
      "Bearing2_7\n",
      "/home/i4624/vscode/gitclone/SWbootProject_2023-7/Team-project/data/ieee-phm-2012-data-challenge-dataset-master/Test_set/temp_Bearing2_7\n",
      "Bearing2_4\n",
      "/home/i4624/vscode/gitclone/SWbootProject_2023-7/Team-project/data/ieee-phm-2012-data-challenge-dataset-master/Test_set/temp_Bearing2_4\n",
      "Bearing1_6\n",
      "/home/i4624/vscode/gitclone/SWbootProject_2023-7/Team-project/data/ieee-phm-2012-data-challenge-dataset-master/Test_set/temp_Bearing1_6\n",
      "Bearing2_5\n",
      "/home/i4624/vscode/gitclone/SWbootProject_2023-7/Team-project/data/ieee-phm-2012-data-challenge-dataset-master/Test_set/temp_Bearing2_5\n",
      "Bearing2_3\n",
      "/home/i4624/vscode/gitclone/SWbootProject_2023-7/Team-project/data/ieee-phm-2012-data-challenge-dataset-master/Test_set/temp_Bearing2_3\n",
      "temp_Bearing1_5\n",
      "/home/i4624/vscode/gitclone/SWbootProject_2023-7/Team-project/data/ieee-phm-2012-data-challenge-dataset-master/Test_set/temp_temp_Bearing1_5\n"
     ]
    }
   ],
   "source": [
    "import os\n",
    "import shutil\n",
    "import uuid\n",
    "\n",
    "def move_files(source_dir, dest_dir):\n",
    "    for file in os.listdir(source_dir):\n",
    "        if file.startswith(\"temp_\") and file.endswith(\".csv\"):\n",
    "            new_file = os.path.join(dest_dir, file)\n",
    "            os.makedirs(os.path.dirname(new_file), exist_ok=True)\n",
    "            shutil.move(os.path.join(source_dir, file), new_file)\n",
    "\n",
    "def get_directories(directory):\n",
    "    directories = []\n",
    "    for item in os.listdir(directory):\n",
    "        if os.path.isdir(os.path.join(directory, item)):\n",
    "            directories.append(item)\n",
    "    return directories\n",
    "\n",
    "def make_temp_dir(directory,source_dirs):\n",
    "    temp_dir = os.path.join(directory, \"temp_{}\".format(source_dirs))\n",
    "    if not os.path.exists(temp_dir):\n",
    "        os.mkdir(temp_dir)\n",
    "    return temp_dir\n",
    "\n",
    "if __name__ == \"__main__\":\n",
    "    directory = \"/home/i4624/vscode/gitclone/SWbootProject_2023-7/Team-project/data/ieee-phm-2012-data-challenge-dataset-master/Test_set\"\n",
    "    source_dir = get_directories(directory)\n",
    "    print(source_dir)\n",
    "    for source_dirs in source_dir:\n",
    "        print(source_dirs)\n",
    "        temp_dir = make_temp_dir(directory, source_dirs)\n",
    "        print(temp_dir)\n",
    "        move_files(directory+'/'+source_dirs, temp_dir)"
   ]
  },
  {
   "cell_type": "code",
   "execution_count": null,
   "metadata": {},
   "outputs": [],
   "source": []
  }
 ],
 "metadata": {
  "kernelspec": {
   "display_name": "Python 3",
   "language": "python",
   "name": "python3"
  },
  "language_info": {
   "codemirror_mode": {
    "name": "ipython",
    "version": 3
   },
   "file_extension": ".py",
   "mimetype": "text/x-python",
   "name": "python",
   "nbconvert_exporter": "python",
   "pygments_lexer": "ipython3",
   "version": "3.10.12"
  },
  "orig_nbformat": 4
 },
 "nbformat": 4,
 "nbformat_minor": 2
}
